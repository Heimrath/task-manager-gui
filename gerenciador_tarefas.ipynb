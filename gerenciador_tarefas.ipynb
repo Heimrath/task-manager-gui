{
 "cells": [
  {
   "cell_type": "markdown",
   "id": "565e5e9c-5f53-4238-bf76-f1019050b71f",
   "metadata": {},
   "source": [
    "# Gerenciador de Tarefas\n",
    "Neste projeto eu quis aprender um pouco mais sobre as interfaces graficas em Python usando a biblioteca \"customtkinter\", além de colocar meus conhecimentos em pratica "
   ]
  },
  {
   "cell_type": "markdown",
   "id": "a7bce26f",
   "metadata": {},
   "source": [
    "## Imports"
   ]
  },
  {
   "cell_type": "code",
   "execution_count": 7,
   "id": "2f8b21f8",
   "metadata": {},
   "outputs": [],
   "source": [
    "import customtkinter as ctk # Biblioteca Gráfica"
   ]
  },
  {
   "cell_type": "markdown",
   "id": "25a64c65",
   "metadata": {},
   "source": [
    "## Variáveis globais"
   ]
  },
  {
   "cell_type": "code",
   "execution_count": 8,
   "id": "4cf6a783",
   "metadata": {},
   "outputs": [],
   "source": [
    "lista_tarefas = [] # Armazena todas as tarefas\n",
    "frame_rolavel_tarefas = None # Frame em que será exibido as tarefas após adicionadas"
   ]
  },
  {
   "cell_type": "markdown",
   "id": "823ba622",
   "metadata": {},
   "source": [
    "## Funções "
   ]
  },
  {
   "cell_type": "markdown",
   "id": "23d3e557",
   "metadata": {},
   "source": [
    "#### - Adicionar Tarefa"
   ]
  },
  {
   "cell_type": "code",
   "execution_count": 9,
   "id": "219b3dc2",
   "metadata": {},
   "outputs": [],
   "source": [
    "def adicionar_tarefa():\n",
    "    # Recebe os dados no campo de entrada da tarefa\n",
    "    texto_tarefa = campo_entry_tarefa.get().strip()\n",
    "    # Recebe os dados no campo de entrada da data\n",
    "    texto_data = campo_entry_data.get().strip()\n",
    "\n",
    "    global lista_tarefas # Permite modificar a lista global\n",
    "\n",
    "    if not texto_tarefa: \n",
    "        resultado.configure(text=\"É necessário inserir uma tarefa.\", text_color=\"red\") # Configura uma mensagem de erro caso tarefa seja vazia\n",
    "        return # Sai da função se a tarefa estiver vazia\n",
    "    else:\n",
    "        resultado.configure(text=\"Tarefa adiciona com sucesso!\", text_color=\"green\")\n",
    "\n",
    "    tarefa_adicionada = f\"{texto_tarefa}\"\n",
    "    if texto_data: # Adiciona a data apenas se ela foi fornecida\n",
    "        tarefa_adicionada += f\" - Data: {texto_data}\"\n",
    "    \n",
    "    lista_tarefas.append(tarefa_adicionada)\n",
    "\n",
    "    # Limpa os campos de entrada após adicionar a tarefa\n",
    "    campo_entry_tarefa.delete(0, \"end\")\n",
    "    campo_entry_data.delete(0, \"end\")\n",
    "\n",
    "    campo_entry_tarefa.focus() # Volto o foco para o campo de entrada da tarefa\n",
    "\n",
    "    atualizar_frame_tarefas()"
   ]
  },
  {
   "cell_type": "markdown",
   "id": "34600763",
   "metadata": {},
   "source": [
    "#### - Atualizar Frame de exibição das tarefas"
   ]
  },
  {
   "cell_type": "code",
   "execution_count": 10,
   "id": "59c03a71",
   "metadata": {},
   "outputs": [],
   "source": [
    "def atualizar_frame_tarefas(): \n",
    "    global frame_rolavel_tarefas # Permite alterar a variavel global \n",
    "\n",
    "    # Remove todos os widgets (labels de tarefas antigas) de dentro do frame_rolavel_tarefas\n",
    "    for widget in frame_rolavel_tarefas.winfo_children():\n",
    "        widget.destroy()\n",
    "    \n",
    "    # Verifica se há tarefas na lista de taredas\n",
    "    if not lista_tarefas:\n",
    "        tarefas_vazias = ctk.CTkLabel(frame_rolavel_tarefas, text=\"Não há tarefas pendentes!\", font=(\"Arial\", 12, \"bold\"))\n",
    "        tarefas_vazias.pack(pady=(15,2), padx=20, fill=\"x\")\n",
    "    else: # Exibe as tarefas no frame \n",
    "        for i, item_lista in enumerate(lista_tarefas):\n",
    "            mostrar_tarefas = ctk.CTkLabel(frame_rolavel_tarefas, text=f\"{i+1}. {item_lista}\", font=(\"Arial\", 14))\n",
    "            mostrar_tarefas.pack(pady=(15, 2), padx=20, anchor=\"w\")"
   ]
  },
  {
   "cell_type": "markdown",
   "id": "11b6f442",
   "metadata": {},
   "source": [
    "#### - Adiciona tarefa ao pressionar a tecla Enter"
   ]
  },
  {
   "cell_type": "code",
   "execution_count": 11,
   "id": "5843dd37",
   "metadata": {},
   "outputs": [],
   "source": [
    "# --- Bind da tecla Enter para adicionar tarefa ---\n",
    "# Cria uma função intermediária para chamar adicionar_tarefa_action\n",
    "# pois o bind passa um argumento 'event' que nossa função pode ignorar.\n",
    "def on_enter_key_pressed(event):\n",
    "    adicionar_tarefa()"
   ]
  },
  {
   "cell_type": "markdown",
   "id": "278d2c88",
   "metadata": {},
   "source": [
    "## Configuração do GUI"
   ]
  },
  {
   "cell_type": "code",
   "execution_count": 12,
   "id": "0a348405",
   "metadata": {},
   "outputs": [],
   "source": [
    "# Configuração da aparência\n",
    "ctk.set_appearance_mode('dark')\n",
    "\n",
    "# Criação da janela principal\n",
    "app = ctk.CTk()\n",
    "app.title(\"Gerenciador de tarefas\")\n",
    "app.geometry('500x500')\n",
    "\n",
    "# Criação dos campos\n",
    "# Label\n",
    "campo_tarefa = ctk.CTkLabel(app, text=\"Tarefa*\", font=(\"Arial\", 14))\n",
    "campo_tarefa.pack(pady=(15,2), padx=20, anchor=\"w\")\n",
    "\n",
    "# Entry\n",
    "campo_entry_tarefa = ctk.CTkEntry(app, placeholder_text=\"Digite sua tarefa\", font=(\"Arial\", 14))\n",
    "campo_entry_tarefa.pack(pady=(0,10), padx=20,fill=\"x\")\n",
    "\n",
    "# Label\n",
    "campo_data = ctk.CTkLabel(app, text=\"Data\", font=(\"Arial\", 14))\n",
    "campo_data.pack(pady=(15, 2), padx=20, anchor=\"w\")\n",
    "\n",
    "# Entry\n",
    "campo_entry_data = ctk.CTkEntry(app, placeholder_text=\"Digite a data: DD/MM/AAAA\", width=200, font=(\"Arial\", 14))\n",
    "campo_entry_data.pack(pady=(0,10), padx=20,fill=\"x\")\n",
    "\n",
    "# Button\n",
    "botao_adicionar = ctk.CTkButton(app, text=\"Adicionar\", command=adicionar_tarefa, font=(\"Arial\", 14))\n",
    "botao_adicionar.pack(pady=(0,10), padx=20,fill=\"x\")\n",
    "\n",
    "# Mensagem indicando campo obrigatório\n",
    "mensagem = ctk.CTkLabel(app, text=\"* campo obrigatório\", font=(\"Arial\", 10))\n",
    "mensagem.pack(pady=(0,10), padx=20, anchor=\"w\")\n",
    "\n",
    "# Exibe erro ao adicionar a tarefa ou sucesso \n",
    "resultado = ctk.CTkLabel(app, text='', font=(\"Arial\", 14))\n",
    "resultado.pack(pady=(0, 2), padx=20)\n",
    "\n",
    "# Bind que chama a função para adicionar a tarefa ao apertar Enter\n",
    "campo_entry_tarefa.bind(\"<Return>\", on_enter_key_pressed) \n",
    "campo_entry_data.bind(\"<Return>\", on_enter_key_pressed)\n",
    "\n",
    "# ----- Exibição da tarefas na parte de baixo ------\n",
    "# Frame Rolável para exibir a lista de tarefas\n",
    "frame_rolavel_tarefas = ctk.CTkScrollableFrame(app, height=200)\n",
    "# fill=\"both\" faz ocupar largura e altura, expand=True permite expandir se a janela crescer\n",
    "frame_rolavel_tarefas.pack(pady=(0, 10), padx=20, fill=\"both\", expand=True)\n",
    "\n",
    "# Iniciar aplicação\n",
    "atualizar_frame_tarefas()\n",
    "\n",
    "\n",
    "# Este projeto não deve ser executado dentro do Jupyter Notebook pois utiliza mainloop(), que pode travar o ambiente.\n",
    "# app.mainloop()"
   ]
  },
  {
   "cell_type": "markdown",
   "id": "42acd6c6",
   "metadata": {},
   "source": [
    "## Output"
   ]
  },
  {
   "cell_type": "markdown",
   "id": "6c9e1d19",
   "metadata": {},
   "source": [
    "<div style=\"text-align: center;\">\n",
    "  <img src=\"app_2.png\" width=\"500\" alt=\"Screenshot do App\">\n",
    "</div>"
   ]
  },
  {
   "cell_type": "markdown",
   "id": "f2e2c108",
   "metadata": {},
   "source": [
    "## A ser feito\n",
    "- Verificador para a data\n",
    "- Sistema para salvar e ler as tarefas de um arquivo texto (.txt)\n",
    "- Sistema para remover e/ou marcar tarefas feitas "
   ]
  }
 ],
 "metadata": {
  "kernelspec": {
   "display_name": "Python 3",
   "language": "python",
   "name": "python3"
  },
  "language_info": {
   "codemirror_mode": {
    "name": "ipython",
    "version": 3
   },
   "file_extension": ".py",
   "mimetype": "text/x-python",
   "name": "python",
   "nbconvert_exporter": "python",
   "pygments_lexer": "ipython3",
   "version": "3.13.3"
  }
 },
 "nbformat": 4,
 "nbformat_minor": 5
}
